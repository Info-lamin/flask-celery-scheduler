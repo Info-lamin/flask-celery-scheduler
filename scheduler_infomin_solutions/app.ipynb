{
 "cells": [
  {
   "cell_type": "code",
   "execution_count": 1,
   "metadata": {},
   "outputs": [
    {
     "name": "stdout",
     "output_type": "stream",
     "text": [
      "2023-10-03 12:17:52,893 INFO sqlalchemy.engine.Engine BEGIN (implicit)\n",
      "2023-10-03 12:17:52,893 INFO sqlalchemy.engine.Engine PRAGMA main.table_info(\"api_account\")\n",
      "2023-10-03 12:17:52,894 INFO sqlalchemy.engine.Engine [raw sql] ()\n",
      "2023-10-03 12:17:52,895 INFO sqlalchemy.engine.Engine PRAGMA main.table_info(\"task\")\n",
      "2023-10-03 12:17:52,896 INFO sqlalchemy.engine.Engine [raw sql] ()\n",
      "2023-10-03 12:17:52,897 INFO sqlalchemy.engine.Engine COMMIT\n"
     ]
    }
   ],
   "source": [
    "from sqlalchemy.orm import sessionmaker, declarative_base, relationship\n",
    "from sqlalchemy import create_engine, Column, Integer, String, ForeignKey\n",
    "\n",
    "db_url = \"sqlite:///db.sqlite3\"\n",
    "db_url = \"sqlite:////home/infominsolutions/scheduler_infomin_solutions/db.sqlite3\"\n",
    "engine = create_engine(db_url, echo=True)  # Set echo=True for debugging SQL statements\n",
    "Base = declarative_base()\n",
    "\n",
    "class ApiAccount(Base):\n",
    "    __tablename__ = \"api_account\"\n",
    "    id = Column(Integer, primary_key=True, index=True)\n",
    "    api_key = Column(String, index=True)\n",
    "    tasks = relationship(\"Task\", back_populates=\"api_account\")\n",
    "\n",
    "class Task(Base):\n",
    "    __tablename__ = \"task\"\n",
    "    id = Column(Integer, primary_key=True, index=True)\n",
    "    task_id = Column(String, index=True)\n",
    "    result = Column(String, index=True)\n",
    "    state = Column(String, index=True)\n",
    "    api_account_id = Column(Integer, ForeignKey(\"api_account.id\"))\n",
    "    api_account = relationship(\"ApiAccount\", back_populates=\"tasks\")\n",
    "\n",
    "Base.metadata.create_all(bind=engine)\n",
    "Session = sessionmaker(bind=engine)\n",
    "session = Session()"
   ]
  },
  {
   "cell_type": "code",
   "execution_count": 2,
   "metadata": {},
   "outputs": [
    {
     "name": "stdout",
     "output_type": "stream",
     "text": [
      "2023-10-03 12:18:17,833 INFO sqlalchemy.engine.Engine BEGIN (implicit)\n",
      "2023-10-03 12:18:17,838 INFO sqlalchemy.engine.Engine INSERT INTO api_account (api_key) VALUES (?)\n",
      "2023-10-03 12:18:17,839 INFO sqlalchemy.engine.Engine [generated in 0.00113s] ('myf654&*^GH768kljugh765*^&b7twe89',)\n",
      "2023-10-03 12:18:17,843 INFO sqlalchemy.engine.Engine COMMIT\n"
     ]
    }
   ],
   "source": [
    "api_account = ApiAccount(api_key=\"myf654&*^GH768kljugh765*^&b7twe89\")\n",
    "session.add(api_account)\n",
    "session.commit()"
   ]
  },
  {
   "cell_type": "code",
   "execution_count": 8,
   "metadata": {},
   "outputs": [
    {
     "name": "stdout",
     "output_type": "stream",
     "text": [
      "2023-10-03 00:10:09,887 INFO sqlalchemy.engine.Engine BEGIN (implicit)\n",
      "2023-10-03 00:10:09,889 INFO sqlalchemy.engine.Engine SELECT api_account.id AS api_account_id, api_account.api_key AS api_account_api_key \n",
      "FROM api_account\n",
      "2023-10-03 00:10:09,890 INFO sqlalchemy.engine.Engine [generated in 0.00093s] ()\n"
     ]
    }
   ],
   "source": [
    "api_account = session.query(ApiAccount).all()[0]"
   ]
  },
  {
   "cell_type": "code",
   "execution_count": 9,
   "metadata": {},
   "outputs": [
    {
     "name": "stdout",
     "output_type": "stream",
     "text": [
      "2023-10-03 00:10:14,215 INFO sqlalchemy.engine.Engine INSERT INTO task (task_id, api_account_id) VALUES (?, ?)\n",
      "2023-10-03 00:10:14,216 INFO sqlalchemy.engine.Engine [generated in 0.00115s] ('abc', 1)\n",
      "2023-10-03 00:10:14,219 INFO sqlalchemy.engine.Engine COMMIT\n"
     ]
    }
   ],
   "source": [
    "task = Task(task_id=\"abc\", api_account=api_account)\n",
    "session.add(task)\n",
    "session.commit()"
   ]
  },
  {
   "cell_type": "code",
   "execution_count": 10,
   "metadata": {},
   "outputs": [
    {
     "name": "stdout",
     "output_type": "stream",
     "text": [
      "2023-10-03 00:10:18,603 INFO sqlalchemy.engine.Engine BEGIN (implicit)\n",
      "2023-10-03 00:10:18,605 INFO sqlalchemy.engine.Engine SELECT task.id AS task_id_1, task.task_id AS task_task_id, task.api_account_id AS task_api_account_id \n",
      "FROM task\n",
      "2023-10-03 00:10:18,606 INFO sqlalchemy.engine.Engine [generated in 0.00107s] ()\n"
     ]
    }
   ],
   "source": [
    "task = session.query(Task).all()[0]"
   ]
  },
  {
   "cell_type": "code",
   "execution_count": 19,
   "metadata": {},
   "outputs": [],
   "source": [
    "session.close()"
   ]
  },
  {
   "cell_type": "code",
   "execution_count": 20,
   "metadata": {},
   "outputs": [],
   "source": [
    "del session"
   ]
  },
  {
   "cell_type": "code",
   "execution_count": 18,
   "metadata": {},
   "outputs": [
    {
     "name": "stdout",
     "output_type": "stream",
     "text": [
      "2023-10-03 00:12:23,135 INFO sqlalchemy.engine.Engine BEGIN (implicit)\n",
      "2023-10-03 00:12:23,135 INFO sqlalchemy.engine.Engine INSERT INTO task (task_id, api_account_id) VALUES (?, ?)\n",
      "2023-10-03 00:12:23,136 INFO sqlalchemy.engine.Engine [cached since 128.9s ago] ('bcd', 1)\n",
      "2023-10-03 00:12:23,140 INFO sqlalchemy.engine.Engine COMMIT\n"
     ]
    }
   ],
   "source": [
    "session = Session()\n",
    "task = Task(task_id=\"bcd\", api_account=api_account)\n",
    "session.add(task)\n",
    "session.commit()"
   ]
  },
  {
   "cell_type": "code",
   "execution_count": null,
   "metadata": {},
   "outputs": [],
   "source": []
  }
 ],
 "metadata": {
  "kernelspec": {
   "display_name": "venv",
   "language": "python",
   "name": "python3"
  },
  "language_info": {
   "codemirror_mode": {
    "name": "ipython",
    "version": 3
   },
   "file_extension": ".py",
   "mimetype": "text/x-python",
   "name": "python",
   "nbconvert_exporter": "python",
   "pygments_lexer": "ipython3",
   "version": "3.10.0"
  },
  "orig_nbformat": 4
 },
 "nbformat": 4,
 "nbformat_minor": 2
}
